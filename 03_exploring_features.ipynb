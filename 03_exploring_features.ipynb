{
 "cells": [
  {
   "cell_type": "markdown",
   "metadata": {},
   "source": [
    "# Exploring the other DataFrames that contain hypotetical features"
   ]
  },
  {
   "cell_type": "markdown",
   "metadata": {},
   "source": [
    "The aim is to clean the other dataframes to be used for the feature selection"
   ]
  },
  {
   "cell_type": "code",
   "execution_count": 1,
   "metadata": {},
   "outputs": [],
   "source": [
    "import pandas as pd\n",
    "import numpy as np\n",
    "import matplotlib.pyplot as plt\n",
    "import seaborn as sb"
   ]
  },
  {
   "cell_type": "code",
   "execution_count": 29,
   "metadata": {},
   "outputs": [],
   "source": [
    "# We'll import the row dataframes (eventually previously cleaned inside the directory \"raw_df_for_features\") \n",
    "# and at the end we'll export one file with all of the hypothetical features"
   ]
  },
  {
   "cell_type": "code",
   "execution_count": 6,
   "metadata": {},
   "outputs": [
    {
     "name": "stdout",
     "output_type": "stream",
     "text": [
      "<class 'pandas.core.frame.DataFrame'>\n",
      "RangeIndex: 392112 entries, 0 to 392111\n",
      "Data columns (total 18 columns):\n",
      " #   Column               Non-Null Count   Dtype  \n",
      "---  ------               --------------   -----  \n",
      " 0   Area                 392112 non-null  object \n",
      " 1   Country code         348792 non-null  object \n",
      " 2   Date                 392112 non-null  object \n",
      " 3   Area type            392112 non-null  object \n",
      " 4   Continent            348792 non-null  object \n",
      " 5   Ember region         348792 non-null  object \n",
      " 6   EU                   348792 non-null  float64\n",
      " 7   OECD                 348792 non-null  float64\n",
      " 8   G20                  348792 non-null  float64\n",
      " 9   G7                   348792 non-null  float64\n",
      " 10  ASEAN                348792 non-null  float64\n",
      " 11  Category             392112 non-null  object \n",
      " 12  Subcategory          392112 non-null  object \n",
      " 13  Variable             392112 non-null  object \n",
      " 14  Unit                 392112 non-null  object \n",
      " 15  Value                391352 non-null  float64\n",
      " 16  YoY absolute change  243380 non-null  float64\n",
      " 17  YoY % change         208295 non-null  float64\n",
      "dtypes: float64(8), object(10)\n",
      "memory usage: 53.8+ MB\n"
     ]
    }
   ],
   "source": [
    "df = pd.read_csv('monthly_full_release_long_format-4.csv')\n",
    "df.info()"
   ]
  },
  {
   "cell_type": "code",
   "execution_count": 8,
   "metadata": {},
   "outputs": [
    {
     "data": {
      "text/plain": [
       "Category\n",
       "Electricity generation    238014\n",
       "Power sector emissions    132762\n",
       "Electricity demand          9170\n",
       "Electricity imports         9170\n",
       "Electricity prices          2996\n",
       "Name: count, dtype: int64"
      ]
     },
     "execution_count": 8,
     "metadata": {},
     "output_type": "execute_result"
    }
   ],
   "source": [
    "occurrences = df['Category'].value_counts()\n",
    "occurrences"
   ]
  },
  {
   "cell_type": "code",
   "execution_count": 12,
   "metadata": {},
   "outputs": [
    {
     "data": {
      "text/plain": [
       "Area\n",
       "Taiwan                      14200\n",
       "United States of America    13828\n",
       "Australia                   13332\n",
       "Colombia                    11791\n",
       "Myanmar                      8816\n",
       "                            ...  \n",
       "Oman                         1596\n",
       "Nigeria                      1586\n",
       "Tunisia                      1575\n",
       "Qatar                        1008\n",
       "Kosovo                        696\n",
       "Name: count, Length: 91, dtype: int64"
      ]
     },
     "execution_count": 12,
     "metadata": {},
     "output_type": "execute_result"
    }
   ],
   "source": [
    "df['Area'].value_counts()"
   ]
  }
 ],
 "metadata": {
  "kernelspec": {
   "display_name": "virt_env_p3",
   "language": "python",
   "name": "python3"
  },
  "language_info": {
   "codemirror_mode": {
    "name": "ipython",
    "version": 3
   },
   "file_extension": ".py",
   "mimetype": "text/x-python",
   "name": "python",
   "nbconvert_exporter": "python",
   "pygments_lexer": "ipython3",
   "version": "3.9.7"
  }
 },
 "nbformat": 4,
 "nbformat_minor": 2
}
