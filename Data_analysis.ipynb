{
 "cells": [
  {
   "cell_type": "markdown",
   "metadata": {},
   "source": [
    "# Exploring the row DataFrame of Natural Gas movements"
   ]
  },
  {
   "cell_type": "code",
   "execution_count": null,
   "metadata": {},
   "outputs": [],
   "source": [
    "import pandas as pd # data science library o manipulate data\n",
    "import numpy as np # mathematical library to manipulate arrays and matrices\n",
    "import matplotlib.pyplot as plt # visualization library\n",
    "import seaborn as sb #visualization library specific for data science, based on matplotlib"
   ]
  }
 ],
 "metadata": {
  "kernelspec": {
   "display_name": "virt_env_p3",
   "language": "python",
   "name": "python3"
  },
  "language_info": {
   "name": "python",
   "version": "3.9.7"
  }
 },
 "nbformat": 4,
 "nbformat_minor": 2
}
