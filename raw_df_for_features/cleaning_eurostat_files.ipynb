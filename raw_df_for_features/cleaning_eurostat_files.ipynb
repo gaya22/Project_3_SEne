{
 "cells": [
  {
   "cell_type": "markdown",
   "metadata": {},
   "source": [
    "## Cleaning Eurostat data\n",
    "### Let's start with electricity import and export per country"
   ]
  },
  {
   "cell_type": "code",
   "execution_count": 224,
   "metadata": {},
   "outputs": [
    {
     "data": {
      "text/plain": [
       "country  date    \n",
       "AL       2008-01    -0.601378\n",
       "         2008-02    -0.161508\n",
       "         2008-03     1.703187\n",
       "         2008-04    -0.370356\n",
       "         2008-05     1.059189\n",
       "                       ...   \n",
       "MD       2023-10    -0.126917\n",
       "         2023-11    -0.162352\n",
       "         2023-12     0.030223\n",
       "         2024-01    -1.723030\n",
       "         2024-02    -0.734133\n",
       "Length: 8342, dtype: float64"
      ]
     },
     "metadata": {},
     "output_type": "display_data"
    },
    {
     "data": {
      "text/plain": [
       "country  date    \n",
       "AL       2008-01           : \n",
       "         2008-02           : \n",
       "         2008-03           : \n",
       "         2008-04           : \n",
       "         2008-05           : \n",
       "                       ...   \n",
       "MD       2023-10     341.081 \n",
       "         2023-11     311.614 \n",
       "         2023-12     316.417 \n",
       "         2024-01     303.787 \n",
       "         2024-02           : \n",
       "Length: 8342, dtype: object"
      ]
     },
     "metadata": {},
     "output_type": "display_data"
    },
    {
     "data": {
      "text/plain": [
       "\"\\nref = [col.split(',')[-1][-2:] for col in df.columns]\\nfor i in range(0,len(ref)):\\n    df.rename(columns=lambda col: col.replace(ref[i], country_mapping.get(ref[i])), inplace=True)\\ndisplay(df)\\n\\n\\n\\n#Creating a multiindex\\ntuples = []\\n\\nfor i in country_mapping:\\n    for j in df.index:\\n        tuples.append((i,j))\\n\\npd.MultiIndex.from_tuples(tuples, names=('country', 'date'))\\n\\n\\ndisplay(df)\\n\""
      ]
     },
     "execution_count": 224,
     "metadata": {},
     "output_type": "execute_result"
    }
   ],
   "source": [
    "import pandas as pd\n",
    "import numpy as np\n",
    "\n",
    "df= pd.read_csv('Electricity import export transformation per country.tsv', sep='\\t')\n",
    "df = df.set_index(df.columns[0])\n",
    "df = df.transpose()\n",
    "df.index.name = 'date'\n",
    "\n",
    "#display(df)\n",
    "\n",
    "#We will keep just the columns with import, export and electricity available to market\n",
    "df.rename(columns=lambda col: col.replace('AIM,', 'Electricity available to market GWh'), inplace=True)\n",
    "df.rename(columns=lambda col: col.replace('IMP,', 'Electricity imported GWh'), inplace=True)\n",
    "df.rename(columns=lambda col: col.replace('EXP,', 'Electricity exported GWh'), inplace=True)\n",
    "df = df.loc[:,~df.columns.str.endswith('20')]\n",
    "df = df.loc[:,df.columns.str.contains('GWh')]\n",
    "\n",
    "#Giving better names\n",
    "df.rename(columns=lambda col: col.replace('M,', ''), inplace=True)\n",
    "df.rename(columns=lambda col: col.replace('E7000,GWH,', ''), inplace=True)\n",
    "\n",
    "# Multiindexing for date and country\n",
    "\n",
    "## Mapping dictionary for European countries and adjacent countries\n",
    "country_mapping = {\n",
    "    'AL': 'Albania',\n",
    "    'AT': 'Austria',\n",
    "    'BA': 'Bosnia and Herzegovina',\n",
    "    'BE': 'Belgium',\n",
    "    'BG': 'Bulgaria',\n",
    "    'CH': 'Switzerland',\n",
    "    'CY': 'Cyprus',\n",
    "    'CZ': 'Czech Republic',\n",
    "    'DE': 'Germany',\n",
    "    'DK': 'Denmark',\n",
    "    'EE': 'Estonia',\n",
    "    'EL': 'Greece',\n",
    "    'ES': 'Spain',\n",
    "    'FI': 'Finland',\n",
    "    'FR': 'France',\n",
    "    'HR': 'Croatia',\n",
    "    'HU': 'Hungary',\n",
    "    'IE': 'Ireland',\n",
    "    'IS': 'Iceland',\n",
    "    'IT': 'Italy',\n",
    "    'LI': 'Liechtenstein',\n",
    "    'LT': 'Lithuania',\n",
    "    'LU': 'Luxembourg',\n",
    "    'LV': 'Latvia',\n",
    "    'ME': 'Montenegro',\n",
    "    'MK': 'North Macedonia',\n",
    "    'MT': 'Malta',\n",
    "    'NL': 'Netherlands',\n",
    "    'NO': 'Norway',\n",
    "    'PL': 'Poland',\n",
    "    'PT': 'Portugal',\n",
    "    'RO': 'Romania',\n",
    "    'RU': 'Russia',\n",
    "    'RS': 'Serbia',\n",
    "    'SE': 'Sweden',\n",
    "    'SI': 'Slovenia',\n",
    "    'SK': 'Slovakia',\n",
    "    'TR': 'Turkey',\n",
    "    'UK': 'United Kingdom',\n",
    "    'XK': 'Kosovo',\n",
    "    'UA': 'Ukraine',\n",
    "    'GE': 'Georgia',\n",
    "    'MD': 'Moldova'\n",
    "}\n",
    "\n",
    "mi = pd.MultiIndex.from_tuples(tuples, names=('country', 'date'))\n",
    "s = pd.Series(np.random.randn(len(mi)), index=mi)\n",
    "\n",
    "for i in country_mapping:\n",
    "    for j in df.index:\n",
    "        st = 'Electricity imported GWh' + i\n",
    "        if st in df.columns:\n",
    "            s.loc[i,j] = df.loc[j,st]\n",
    "        else:\n",
    "            s.loc[i,j] = ':'\n",
    "\n",
    "display(s)\n",
    "\n",
    "'''\n",
    "ref = [col.split(',')[-1][-2:] for col in df.columns]\n",
    "for i in range(0,len(ref)):\n",
    "    df.rename(columns=lambda col: col.replace(ref[i], country_mapping.get(ref[i])), inplace=True)\n",
    "display(df)\n",
    "\n",
    "\n",
    "\n",
    "#Creating a multiindex\n",
    "tuples = []\n",
    "\n",
    "for i in country_mapping:\n",
    "    for j in df.index:\n",
    "        tuples.append((i,j))\n",
    "\n",
    "pd.MultiIndex.from_tuples(tuples, names=('country', 'date'))\n",
    "\n",
    "\n",
    "display(df)\n",
    "'''"
   ]
  }
 ],
 "metadata": {
  "kernelspec": {
   "display_name": "base",
   "language": "python",
   "name": "python3"
  },
  "language_info": {
   "codemirror_mode": {
    "name": "ipython",
    "version": 3
   },
   "file_extension": ".py",
   "mimetype": "text/x-python",
   "name": "python",
   "nbconvert_exporter": "python",
   "pygments_lexer": "ipython3",
   "version": "3.11.5"
  }
 },
 "nbformat": 4,
 "nbformat_minor": 2
}
