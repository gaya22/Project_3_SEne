import pandas as pd



df= pd.read_csv('gas_prices.csv', sep='\t')
df = df.set_index(df.columns[0])



display(df)